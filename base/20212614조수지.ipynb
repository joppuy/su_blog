{
 "cells": [
  {
   "cell_type": "markdown",
   "id": "37128a16",
   "metadata": {},
   "source": [
    "## 1. Numpy 기본 - 각 3점씩"
   ]
  },
  {
   "cell_type": "code",
   "execution_count": 1,
   "id": "595ece6a",
   "metadata": {},
   "outputs": [],
   "source": [
    "import numpy as np"
   ]
  },
  {
   "cell_type": "markdown",
   "id": "d61267b1",
   "metadata": {},
   "source": [
    "#### 1) 0에서부터 29까지의 숫자가 순서대로 들어간 3x10 matrix를 만들어 보시오. 최종 결과물은 아래와 같습니다 "
   ]
  },
  {
   "cell_type": "code",
   "execution_count": 12,
   "id": "b3353514",
   "metadata": {},
   "outputs": [],
   "source": [
    "g=np.arange(30)"
   ]
  },
  {
   "cell_type": "code",
   "execution_count": 15,
   "id": "237f45ef",
   "metadata": {},
   "outputs": [
    {
     "data": {
      "text/plain": [
       "array([[ 0,  1,  2,  3,  4,  5,  6,  7,  8,  9],\n",
       "       [10, 11, 12, 13, 14, 15, 16, 17, 18, 19],\n",
       "       [20, 21, 22, 23, 24, 25, 26, 27, 28, 29]])"
      ]
     },
     "execution_count": 15,
     "metadata": {},
     "output_type": "execute_result"
    }
   ],
   "source": [
    "g.reshape(3,10)"
   ]
  },
  {
   "cell_type": "code",
   "execution_count": 74,
   "id": "38c54ea2",
   "metadata": {},
   "outputs": [
    {
     "data": {
      "text/plain": [
       "array([[ 0,  1,  2,  3,  4,  5,  6,  7,  8,  9],\n",
       "       [10, 11, 12, 13, 14, 15, 16, 17, 18, 19],\n",
       "       [20, 21, 22, 23, 24, 25, 26, 27, 28, 29]])"
      ]
     },
     "execution_count": 74,
     "metadata": {},
     "output_type": "execute_result"
    }
   ],
   "source": []
  },
  {
   "cell_type": "markdown",
   "id": "8b52dabd",
   "metadata": {},
   "source": [
    "#### 2) 1)에서 생성한 array의 모든 element에 10을 곱한 후 5를 더한 새로운 array를 생성히시오"
   ]
  },
  {
   "cell_type": "code",
   "execution_count": 20,
   "id": "b28e9223",
   "metadata": {},
   "outputs": [
    {
     "data": {
      "text/plain": [
       "array([  5,  15,  25,  35,  45,  55,  65,  75,  85,  95, 105, 115, 125,\n",
       "       135, 145, 155, 165, 175, 185, 195, 205, 215, 225, 235, 245, 255,\n",
       "       265, 275, 285, 295])"
      ]
     },
     "execution_count": 20,
     "metadata": {},
     "output_type": "execute_result"
    }
   ],
   "source": [
    "g2=g*10\n",
    "g2=g2+5\n",
    "g2"
   ]
  },
  {
   "cell_type": "markdown",
   "id": "f479412b",
   "metadata": {},
   "source": [
    "#### 3) 1)에서 생성한 array에서 10보다 크거나 같은 모든 원소들을 999로 변환하는 코드를 작성하시오\n"
   ]
  },
  {
   "cell_type": "code",
   "execution_count": 26,
   "id": "9e06fb94",
   "metadata": {},
   "outputs": [
    {
     "data": {
      "text/plain": [
       "array([999,  15,  25,  35,  45,  55,  65,  75,  85,  95, 105, 115, 125,\n",
       "       135, 145, 155, 165, 175, 185, 195, 205, 215, 225, 235, 245, 255,\n",
       "       265, 275, 285, 295])"
      ]
     },
     "execution_count": 26,
     "metadata": {},
     "output_type": "execute_result"
    }
   ],
   "source": [
    "g2[g2<10]=999\n",
    "g2"
   ]
  },
  {
   "attachments": {},
   "cell_type": "markdown",
   "id": "89b0d38d",
   "metadata": {},
   "source": [
    "#### 4) numpy 라이브러리를 사용하여 다음 두 개의 배열을 수직 방향(axis=0)과 수평 방향(axis=1)으로 연결하세요."
   ]
  },
  {
   "cell_type": "code",
   "execution_count": 3,
   "id": "84e42e77",
   "metadata": {},
   "outputs": [],
   "source": [
    "arr1=np.array([[1,2,3],\n",
    "              [4,5,6]])\n",
    "\n",
    "arr2=np.array([[7,8,9],\n",
    "              [10,11,12]])"
   ]
  },
  {
   "attachments": {},
   "cell_type": "markdown",
   "id": "bc568855",
   "metadata": {},
   "source": [
    "1. 수직방향 연결"
   ]
  },
  {
   "cell_type": "code",
   "execution_count": 30,
   "id": "f8dd81e1",
   "metadata": {},
   "outputs": [
    {
     "data": {
      "text/plain": [
       "array([[ 1,  2,  3],\n",
       "       [ 4,  5,  6],\n",
       "       [ 7,  8,  9],\n",
       "       [10, 11, 12]])"
      ]
     },
     "execution_count": 30,
     "metadata": {},
     "output_type": "execute_result"
    }
   ],
   "source": [
    "arr3=np.vstack((arr1,arr2))\n",
    "arr3\n"
   ]
  },
  {
   "attachments": {},
   "cell_type": "markdown",
   "id": "ed2ab478",
   "metadata": {},
   "source": [
    "2. 수평방향 연결"
   ]
  },
  {
   "cell_type": "code",
   "execution_count": 32,
   "id": "c5a0b6a1",
   "metadata": {},
   "outputs": [
    {
     "data": {
      "text/plain": [
       "array([[ 1,  2,  3,  7,  8,  9],\n",
       "       [ 4,  5,  6, 10, 11, 12]])"
      ]
     },
     "execution_count": 32,
     "metadata": {},
     "output_type": "execute_result"
    }
   ],
   "source": [
    "arr4=np.hstack((arr1,arr2))\n",
    "arr4"
   ]
  },
  {
   "cell_type": "markdown",
   "id": "e5dd0bad",
   "metadata": {},
   "source": [
    "## 2. Pandas 기본 - 각 3점씩"
   ]
  },
  {
   "cell_type": "code",
   "execution_count": 33,
   "id": "edcdf24d",
   "metadata": {},
   "outputs": [],
   "source": [
    "import pandas as pd"
   ]
  },
  {
   "attachments": {},
   "cell_type": "markdown",
   "id": "08d0d99c",
   "metadata": {},
   "source": [
    "#### 1) 다음은 미국 프로농구 NBA 리그 선수들의 나이, 키, 소속팀 지역(서부/동부), 20년 평균득점, 21년 평균득점, 20년 평균어시스트, 21년 평균어시스트를 나타낸 것이다. Dictionary 형태로 되어 있는 것을 각 key값을 column으로 하는 데이터 프레임으로 변환하시오"
   ]
  },
  {
   "cell_type": "code",
   "execution_count": 47,
   "id": "fae35d0e",
   "metadata": {},
   "outputs": [],
   "source": [
    "nba_data = {\n",
    "    \"age\": {\n",
    "        \"Lebron\": 38, \"Durant\": 34, \"Curry\": 34, \"Harden\": 33, \"Westbrook\": 34,\n",
    "        \"Lillard\": 32, \"Antetokounmpo\": 28, \"Jokic\": 27, \"Irving\": 30, \"Doncic\": 23,\n",
    "        \"Embiid\": 28, \"George\": 32, \"Tatum\": 24, \"Butler\": 32, \"Mitchell\": 25,\n",
    "        \"Gobert\": 30, \"Booker\": 25, \"Paul\": 37, \"Bam\": 25, \"Simmons\": 26\n",
    "    },\n",
    "    \"height\": {\n",
    "        \"Lebron\": 206, \"Durant\": 208, \"Curry\": 191, \"Harden\": 196, \"Westbrook\": 191,\n",
    "        \"Lillard\": 191, \"Antetokounmpo\": 211, \"Jokic\": 213, \"Irving\": 188, \"Doncic\": 201,\n",
    "        \"Embiid\": 213, \"George\": 203, \"Tatum\": 203, \"Butler\": 201, \"Mitchell\": 185,\n",
    "        \"Gobert\": 216, \"Booker\": 198, \"Paul\": 183, \"Bam\": 206, \"Simmons\": 208\n",
    "    },\n",
    "    \"team_region\": {\n",
    "        \"Durant\": \"Eastern\", \"Curry\": \"Western\", \"Harden\": \"Eastern\", \"Westbrook\": \"Eastern\",\n",
    "        \"Lillard\": \"Western\", \"Antetokounmpo\": \"Eastern\", \"Jokic\": \"Western\", \"Irving\": \"Eastern\", \"Doncic\": \"Western\",\n",
    "        \"Embiid\": \"Eastern\", \"George\": \"Western\", \"Tatum\": \"Eastern\", \"Butler\": \"Eastern\", \"Mitchell\": \"Western\",\n",
    "        \"Gobert\": \"Western\", \"Booker\": \"Western\", \"Paul\": \"Western\", \"Bam\": \"Eastern\", \"Simmons\": \"Eastern\"\n",
    "    },\n",
    "    \"ppg_20\": {\n",
    "        \"Lebron\": 25.3, \"Durant\": 26.0, \"Curry\": 32.0, \"Harden\": 24.6, \"Westbrook\": 22.2,\n",
    "        \"Lillard\": 28.8, \"Antetokounmpo\": 28.1, \"Jokic\": 26.4, \"Irving\": 27.0, \"Doncic\": 27.7,\n",
    "        \"Embiid\": 28.5, \"George\": 23.3, \"Tatum\": 26.4, \"Butler\": 21.5, \"Mitchell\": 26.4,\n",
    "        \"Gobert\": 14.3, \"Booker\": 25.6, \"Paul\": 16.4, \"Bam\": 18.7, \"Simmons\": 14.3\n",
    "    },\n",
    "    \"ppg_21\": {\n",
    "        \"Lebron\": 26.2, \"Durant\": 27.1, \"Curry\": 31.0, \"Harden\": 23.4, \"Westbrook\": 21.9,\n",
    "        \"Lillard\": 27.7, \"Antetokounmpo\": 29.0, \"Jokic\": 26.9, \"Irving\": 26.3, \"Doncic\": 28.6,\n",
    "        \"Embiid\": 28.9, \"George\": 24.5, \"Tatum\": 25.7, \"Butler\": 22.1, \"Mitchell\": 25.8,\n",
    "        \"Gobert\": 15.1, \"Booker\": 24.8, \"Paul\": 15.3, \"Bam\": 19.2, \"Simmons\": 13.9\n",
    "        },\n",
    "    \"apg_20\": {\n",
    "        \"Lebron\": 10.2, \"Durant\": 5.9, \"Curry\": 5.8, \"Harden\": 10.9, \"Westbrook\": 11.7,\n",
    "        \"Lillard\": 7.8, \"Antetokounmpo\": 5.6, \"Jokic\": 8.3, \"Irving\": 6.1, \"Doncic\": 8.6,\n",
    "        \"Embiid\": 3.0, \"George\": 5.2, \"Tatum\": 4.3, \"Butler\": 6.0, \"Mitchell\": 4.8,\n",
    "        \"Gobert\": 2.0, \"Booker\": 6.5, \"Paul\": 9.3, \"Bam\": 5.1, \"Simmons\": 8.0\n",
    "        },\n",
    "    \"apg_21\": {\n",
    "        \"Lebron\": 9.8, \"Durant\": 6.2, \"Curry\": 6.1, \"Harden\": 9.7, \"Westbrook\": 11.5,\n",
    "        \"Lillard\": 7.5, \"Antetokounmpo\": 5.9, \"Jokic\": 8.8, \"Irving\": 5.9, \"Doncic\": 9.0,\n",
    "        \"Embiid\": 3.1, \"George\": 5.4, \"Tatum\": 4.6, \"Butler\": 6.2, \"Mitchell\": 5.1,\n",
    "        \"Gobert\": 2.3, \"Booker\": 6.2, \"Paul\": 8.7, \"Bam\": 5.5, \"Simmons\": 7.7\n",
    "        }\n",
    "    }\n",
    "       "
   ]
  },
  {
   "cell_type": "code",
   "execution_count": 48,
   "id": "ee5cf82c",
   "metadata": {},
   "outputs": [
    {
     "data": {
      "text/plain": [
       "dict_keys(['age', 'height', 'team_region', 'ppg_20', 'ppg_21', 'apg_20', 'apg_21'])"
      ]
     },
     "execution_count": 48,
     "metadata": {},
     "output_type": "execute_result"
    }
   ],
   "source": [
    "nba_data.keys()"
   ]
  },
  {
   "cell_type": "code",
   "execution_count": 49,
   "id": "d52a3365",
   "metadata": {},
   "outputs": [
    {
     "data": {
      "text/html": [
       "<div>\n",
       "<style scoped>\n",
       "    .dataframe tbody tr th:only-of-type {\n",
       "        vertical-align: middle;\n",
       "    }\n",
       "\n",
       "    .dataframe tbody tr th {\n",
       "        vertical-align: top;\n",
       "    }\n",
       "\n",
       "    .dataframe thead th {\n",
       "        text-align: right;\n",
       "    }\n",
       "</style>\n",
       "<table border=\"1\" class=\"dataframe\">\n",
       "  <thead>\n",
       "    <tr style=\"text-align: right;\">\n",
       "      <th></th>\n",
       "      <th>age</th>\n",
       "      <th>height</th>\n",
       "      <th>team_region</th>\n",
       "      <th>ppg_20</th>\n",
       "      <th>ppg_21</th>\n",
       "      <th>apg_20</th>\n",
       "      <th>apg_21</th>\n",
       "    </tr>\n",
       "  </thead>\n",
       "  <tbody>\n",
       "    <tr>\n",
       "      <th>Lebron</th>\n",
       "      <td>38</td>\n",
       "      <td>206</td>\n",
       "      <td>NaN</td>\n",
       "      <td>25.3</td>\n",
       "      <td>26.2</td>\n",
       "      <td>10.2</td>\n",
       "      <td>9.8</td>\n",
       "    </tr>\n",
       "    <tr>\n",
       "      <th>Durant</th>\n",
       "      <td>34</td>\n",
       "      <td>208</td>\n",
       "      <td>Eastern</td>\n",
       "      <td>26.0</td>\n",
       "      <td>27.1</td>\n",
       "      <td>5.9</td>\n",
       "      <td>6.2</td>\n",
       "    </tr>\n",
       "    <tr>\n",
       "      <th>Curry</th>\n",
       "      <td>34</td>\n",
       "      <td>191</td>\n",
       "      <td>Western</td>\n",
       "      <td>32.0</td>\n",
       "      <td>31.0</td>\n",
       "      <td>5.8</td>\n",
       "      <td>6.1</td>\n",
       "    </tr>\n",
       "    <tr>\n",
       "      <th>Harden</th>\n",
       "      <td>33</td>\n",
       "      <td>196</td>\n",
       "      <td>Eastern</td>\n",
       "      <td>24.6</td>\n",
       "      <td>23.4</td>\n",
       "      <td>10.9</td>\n",
       "      <td>9.7</td>\n",
       "    </tr>\n",
       "    <tr>\n",
       "      <th>Westbrook</th>\n",
       "      <td>34</td>\n",
       "      <td>191</td>\n",
       "      <td>Eastern</td>\n",
       "      <td>22.2</td>\n",
       "      <td>21.9</td>\n",
       "      <td>11.7</td>\n",
       "      <td>11.5</td>\n",
       "    </tr>\n",
       "    <tr>\n",
       "      <th>Lillard</th>\n",
       "      <td>32</td>\n",
       "      <td>191</td>\n",
       "      <td>Western</td>\n",
       "      <td>28.8</td>\n",
       "      <td>27.7</td>\n",
       "      <td>7.8</td>\n",
       "      <td>7.5</td>\n",
       "    </tr>\n",
       "    <tr>\n",
       "      <th>Antetokounmpo</th>\n",
       "      <td>28</td>\n",
       "      <td>211</td>\n",
       "      <td>Eastern</td>\n",
       "      <td>28.1</td>\n",
       "      <td>29.0</td>\n",
       "      <td>5.6</td>\n",
       "      <td>5.9</td>\n",
       "    </tr>\n",
       "    <tr>\n",
       "      <th>Jokic</th>\n",
       "      <td>27</td>\n",
       "      <td>213</td>\n",
       "      <td>Western</td>\n",
       "      <td>26.4</td>\n",
       "      <td>26.9</td>\n",
       "      <td>8.3</td>\n",
       "      <td>8.8</td>\n",
       "    </tr>\n",
       "    <tr>\n",
       "      <th>Irving</th>\n",
       "      <td>30</td>\n",
       "      <td>188</td>\n",
       "      <td>Eastern</td>\n",
       "      <td>27.0</td>\n",
       "      <td>26.3</td>\n",
       "      <td>6.1</td>\n",
       "      <td>5.9</td>\n",
       "    </tr>\n",
       "    <tr>\n",
       "      <th>Doncic</th>\n",
       "      <td>23</td>\n",
       "      <td>201</td>\n",
       "      <td>Western</td>\n",
       "      <td>27.7</td>\n",
       "      <td>28.6</td>\n",
       "      <td>8.6</td>\n",
       "      <td>9.0</td>\n",
       "    </tr>\n",
       "    <tr>\n",
       "      <th>Embiid</th>\n",
       "      <td>28</td>\n",
       "      <td>213</td>\n",
       "      <td>Eastern</td>\n",
       "      <td>28.5</td>\n",
       "      <td>28.9</td>\n",
       "      <td>3.0</td>\n",
       "      <td>3.1</td>\n",
       "    </tr>\n",
       "    <tr>\n",
       "      <th>George</th>\n",
       "      <td>32</td>\n",
       "      <td>203</td>\n",
       "      <td>Western</td>\n",
       "      <td>23.3</td>\n",
       "      <td>24.5</td>\n",
       "      <td>5.2</td>\n",
       "      <td>5.4</td>\n",
       "    </tr>\n",
       "    <tr>\n",
       "      <th>Tatum</th>\n",
       "      <td>24</td>\n",
       "      <td>203</td>\n",
       "      <td>Eastern</td>\n",
       "      <td>26.4</td>\n",
       "      <td>25.7</td>\n",
       "      <td>4.3</td>\n",
       "      <td>4.6</td>\n",
       "    </tr>\n",
       "    <tr>\n",
       "      <th>Butler</th>\n",
       "      <td>32</td>\n",
       "      <td>201</td>\n",
       "      <td>Eastern</td>\n",
       "      <td>21.5</td>\n",
       "      <td>22.1</td>\n",
       "      <td>6.0</td>\n",
       "      <td>6.2</td>\n",
       "    </tr>\n",
       "    <tr>\n",
       "      <th>Mitchell</th>\n",
       "      <td>25</td>\n",
       "      <td>185</td>\n",
       "      <td>Western</td>\n",
       "      <td>26.4</td>\n",
       "      <td>25.8</td>\n",
       "      <td>4.8</td>\n",
       "      <td>5.1</td>\n",
       "    </tr>\n",
       "    <tr>\n",
       "      <th>Gobert</th>\n",
       "      <td>30</td>\n",
       "      <td>216</td>\n",
       "      <td>Western</td>\n",
       "      <td>14.3</td>\n",
       "      <td>15.1</td>\n",
       "      <td>2.0</td>\n",
       "      <td>2.3</td>\n",
       "    </tr>\n",
       "    <tr>\n",
       "      <th>Booker</th>\n",
       "      <td>25</td>\n",
       "      <td>198</td>\n",
       "      <td>Western</td>\n",
       "      <td>25.6</td>\n",
       "      <td>24.8</td>\n",
       "      <td>6.5</td>\n",
       "      <td>6.2</td>\n",
       "    </tr>\n",
       "    <tr>\n",
       "      <th>Paul</th>\n",
       "      <td>37</td>\n",
       "      <td>183</td>\n",
       "      <td>Western</td>\n",
       "      <td>16.4</td>\n",
       "      <td>15.3</td>\n",
       "      <td>9.3</td>\n",
       "      <td>8.7</td>\n",
       "    </tr>\n",
       "    <tr>\n",
       "      <th>Bam</th>\n",
       "      <td>25</td>\n",
       "      <td>206</td>\n",
       "      <td>Eastern</td>\n",
       "      <td>18.7</td>\n",
       "      <td>19.2</td>\n",
       "      <td>5.1</td>\n",
       "      <td>5.5</td>\n",
       "    </tr>\n",
       "    <tr>\n",
       "      <th>Simmons</th>\n",
       "      <td>26</td>\n",
       "      <td>208</td>\n",
       "      <td>Eastern</td>\n",
       "      <td>14.3</td>\n",
       "      <td>13.9</td>\n",
       "      <td>8.0</td>\n",
       "      <td>7.7</td>\n",
       "    </tr>\n",
       "  </tbody>\n",
       "</table>\n",
       "</div>"
      ],
      "text/plain": [
       "               age  height team_region  ppg_20  ppg_21  apg_20  apg_21\n",
       "Lebron          38     206         NaN    25.3    26.2    10.2     9.8\n",
       "Durant          34     208     Eastern    26.0    27.1     5.9     6.2\n",
       "Curry           34     191     Western    32.0    31.0     5.8     6.1\n",
       "Harden          33     196     Eastern    24.6    23.4    10.9     9.7\n",
       "Westbrook       34     191     Eastern    22.2    21.9    11.7    11.5\n",
       "Lillard         32     191     Western    28.8    27.7     7.8     7.5\n",
       "Antetokounmpo   28     211     Eastern    28.1    29.0     5.6     5.9\n",
       "Jokic           27     213     Western    26.4    26.9     8.3     8.8\n",
       "Irving          30     188     Eastern    27.0    26.3     6.1     5.9\n",
       "Doncic          23     201     Western    27.7    28.6     8.6     9.0\n",
       "Embiid          28     213     Eastern    28.5    28.9     3.0     3.1\n",
       "George          32     203     Western    23.3    24.5     5.2     5.4\n",
       "Tatum           24     203     Eastern    26.4    25.7     4.3     4.6\n",
       "Butler          32     201     Eastern    21.5    22.1     6.0     6.2\n",
       "Mitchell        25     185     Western    26.4    25.8     4.8     5.1\n",
       "Gobert          30     216     Western    14.3    15.1     2.0     2.3\n",
       "Booker          25     198     Western    25.6    24.8     6.5     6.2\n",
       "Paul            37     183     Western    16.4    15.3     9.3     8.7\n",
       "Bam             25     206     Eastern    18.7    19.2     5.1     5.5\n",
       "Simmons         26     208     Eastern    14.3    13.9     8.0     7.7"
      ]
     },
     "execution_count": 49,
     "metadata": {},
     "output_type": "execute_result"
    }
   ],
   "source": [
    "people = pd.DataFrame(nba_data)\n",
    "people"
   ]
  },
  {
   "attachments": {},
   "cell_type": "markdown",
   "id": "44755425",
   "metadata": {},
   "source": [
    "#### 2) Lebron의 team_region 값이 'Western'라고 할 때 해당 값을 위의 데이터 프레임에 추가하시오"
   ]
  },
  {
   "cell_type": "code",
   "execution_count": 50,
   "id": "b5776008",
   "metadata": {},
   "outputs": [
    {
     "data": {
      "text/html": [
       "<div>\n",
       "<style scoped>\n",
       "    .dataframe tbody tr th:only-of-type {\n",
       "        vertical-align: middle;\n",
       "    }\n",
       "\n",
       "    .dataframe tbody tr th {\n",
       "        vertical-align: top;\n",
       "    }\n",
       "\n",
       "    .dataframe thead th {\n",
       "        text-align: right;\n",
       "    }\n",
       "</style>\n",
       "<table border=\"1\" class=\"dataframe\">\n",
       "  <thead>\n",
       "    <tr style=\"text-align: right;\">\n",
       "      <th></th>\n",
       "      <th>age</th>\n",
       "      <th>height</th>\n",
       "      <th>team_region</th>\n",
       "      <th>ppg_20</th>\n",
       "      <th>ppg_21</th>\n",
       "      <th>apg_20</th>\n",
       "      <th>apg_21</th>\n",
       "    </tr>\n",
       "  </thead>\n",
       "  <tbody>\n",
       "    <tr>\n",
       "      <th>Lebron</th>\n",
       "      <td>38</td>\n",
       "      <td>206</td>\n",
       "      <td>Western</td>\n",
       "      <td>25.3</td>\n",
       "      <td>26.2</td>\n",
       "      <td>10.2</td>\n",
       "      <td>9.8</td>\n",
       "    </tr>\n",
       "    <tr>\n",
       "      <th>Durant</th>\n",
       "      <td>34</td>\n",
       "      <td>208</td>\n",
       "      <td>Eastern</td>\n",
       "      <td>26.0</td>\n",
       "      <td>27.1</td>\n",
       "      <td>5.9</td>\n",
       "      <td>6.2</td>\n",
       "    </tr>\n",
       "    <tr>\n",
       "      <th>Curry</th>\n",
       "      <td>34</td>\n",
       "      <td>191</td>\n",
       "      <td>Western</td>\n",
       "      <td>32.0</td>\n",
       "      <td>31.0</td>\n",
       "      <td>5.8</td>\n",
       "      <td>6.1</td>\n",
       "    </tr>\n",
       "    <tr>\n",
       "      <th>Harden</th>\n",
       "      <td>33</td>\n",
       "      <td>196</td>\n",
       "      <td>Eastern</td>\n",
       "      <td>24.6</td>\n",
       "      <td>23.4</td>\n",
       "      <td>10.9</td>\n",
       "      <td>9.7</td>\n",
       "    </tr>\n",
       "    <tr>\n",
       "      <th>Westbrook</th>\n",
       "      <td>34</td>\n",
       "      <td>191</td>\n",
       "      <td>Eastern</td>\n",
       "      <td>22.2</td>\n",
       "      <td>21.9</td>\n",
       "      <td>11.7</td>\n",
       "      <td>11.5</td>\n",
       "    </tr>\n",
       "    <tr>\n",
       "      <th>Lillard</th>\n",
       "      <td>32</td>\n",
       "      <td>191</td>\n",
       "      <td>Western</td>\n",
       "      <td>28.8</td>\n",
       "      <td>27.7</td>\n",
       "      <td>7.8</td>\n",
       "      <td>7.5</td>\n",
       "    </tr>\n",
       "    <tr>\n",
       "      <th>Antetokounmpo</th>\n",
       "      <td>28</td>\n",
       "      <td>211</td>\n",
       "      <td>Eastern</td>\n",
       "      <td>28.1</td>\n",
       "      <td>29.0</td>\n",
       "      <td>5.6</td>\n",
       "      <td>5.9</td>\n",
       "    </tr>\n",
       "    <tr>\n",
       "      <th>Jokic</th>\n",
       "      <td>27</td>\n",
       "      <td>213</td>\n",
       "      <td>Western</td>\n",
       "      <td>26.4</td>\n",
       "      <td>26.9</td>\n",
       "      <td>8.3</td>\n",
       "      <td>8.8</td>\n",
       "    </tr>\n",
       "    <tr>\n",
       "      <th>Irving</th>\n",
       "      <td>30</td>\n",
       "      <td>188</td>\n",
       "      <td>Eastern</td>\n",
       "      <td>27.0</td>\n",
       "      <td>26.3</td>\n",
       "      <td>6.1</td>\n",
       "      <td>5.9</td>\n",
       "    </tr>\n",
       "    <tr>\n",
       "      <th>Doncic</th>\n",
       "      <td>23</td>\n",
       "      <td>201</td>\n",
       "      <td>Western</td>\n",
       "      <td>27.7</td>\n",
       "      <td>28.6</td>\n",
       "      <td>8.6</td>\n",
       "      <td>9.0</td>\n",
       "    </tr>\n",
       "    <tr>\n",
       "      <th>Embiid</th>\n",
       "      <td>28</td>\n",
       "      <td>213</td>\n",
       "      <td>Eastern</td>\n",
       "      <td>28.5</td>\n",
       "      <td>28.9</td>\n",
       "      <td>3.0</td>\n",
       "      <td>3.1</td>\n",
       "    </tr>\n",
       "    <tr>\n",
       "      <th>George</th>\n",
       "      <td>32</td>\n",
       "      <td>203</td>\n",
       "      <td>Western</td>\n",
       "      <td>23.3</td>\n",
       "      <td>24.5</td>\n",
       "      <td>5.2</td>\n",
       "      <td>5.4</td>\n",
       "    </tr>\n",
       "    <tr>\n",
       "      <th>Tatum</th>\n",
       "      <td>24</td>\n",
       "      <td>203</td>\n",
       "      <td>Eastern</td>\n",
       "      <td>26.4</td>\n",
       "      <td>25.7</td>\n",
       "      <td>4.3</td>\n",
       "      <td>4.6</td>\n",
       "    </tr>\n",
       "    <tr>\n",
       "      <th>Butler</th>\n",
       "      <td>32</td>\n",
       "      <td>201</td>\n",
       "      <td>Eastern</td>\n",
       "      <td>21.5</td>\n",
       "      <td>22.1</td>\n",
       "      <td>6.0</td>\n",
       "      <td>6.2</td>\n",
       "    </tr>\n",
       "    <tr>\n",
       "      <th>Mitchell</th>\n",
       "      <td>25</td>\n",
       "      <td>185</td>\n",
       "      <td>Western</td>\n",
       "      <td>26.4</td>\n",
       "      <td>25.8</td>\n",
       "      <td>4.8</td>\n",
       "      <td>5.1</td>\n",
       "    </tr>\n",
       "    <tr>\n",
       "      <th>Gobert</th>\n",
       "      <td>30</td>\n",
       "      <td>216</td>\n",
       "      <td>Western</td>\n",
       "      <td>14.3</td>\n",
       "      <td>15.1</td>\n",
       "      <td>2.0</td>\n",
       "      <td>2.3</td>\n",
       "    </tr>\n",
       "    <tr>\n",
       "      <th>Booker</th>\n",
       "      <td>25</td>\n",
       "      <td>198</td>\n",
       "      <td>Western</td>\n",
       "      <td>25.6</td>\n",
       "      <td>24.8</td>\n",
       "      <td>6.5</td>\n",
       "      <td>6.2</td>\n",
       "    </tr>\n",
       "    <tr>\n",
       "      <th>Paul</th>\n",
       "      <td>37</td>\n",
       "      <td>183</td>\n",
       "      <td>Western</td>\n",
       "      <td>16.4</td>\n",
       "      <td>15.3</td>\n",
       "      <td>9.3</td>\n",
       "      <td>8.7</td>\n",
       "    </tr>\n",
       "    <tr>\n",
       "      <th>Bam</th>\n",
       "      <td>25</td>\n",
       "      <td>206</td>\n",
       "      <td>Eastern</td>\n",
       "      <td>18.7</td>\n",
       "      <td>19.2</td>\n",
       "      <td>5.1</td>\n",
       "      <td>5.5</td>\n",
       "    </tr>\n",
       "    <tr>\n",
       "      <th>Simmons</th>\n",
       "      <td>26</td>\n",
       "      <td>208</td>\n",
       "      <td>Eastern</td>\n",
       "      <td>14.3</td>\n",
       "      <td>13.9</td>\n",
       "      <td>8.0</td>\n",
       "      <td>7.7</td>\n",
       "    </tr>\n",
       "  </tbody>\n",
       "</table>\n",
       "</div>"
      ],
      "text/plain": [
       "               age  height team_region  ppg_20  ppg_21  apg_20  apg_21\n",
       "Lebron          38     206     Western    25.3    26.2    10.2     9.8\n",
       "Durant          34     208     Eastern    26.0    27.1     5.9     6.2\n",
       "Curry           34     191     Western    32.0    31.0     5.8     6.1\n",
       "Harden          33     196     Eastern    24.6    23.4    10.9     9.7\n",
       "Westbrook       34     191     Eastern    22.2    21.9    11.7    11.5\n",
       "Lillard         32     191     Western    28.8    27.7     7.8     7.5\n",
       "Antetokounmpo   28     211     Eastern    28.1    29.0     5.6     5.9\n",
       "Jokic           27     213     Western    26.4    26.9     8.3     8.8\n",
       "Irving          30     188     Eastern    27.0    26.3     6.1     5.9\n",
       "Doncic          23     201     Western    27.7    28.6     8.6     9.0\n",
       "Embiid          28     213     Eastern    28.5    28.9     3.0     3.1\n",
       "George          32     203     Western    23.3    24.5     5.2     5.4\n",
       "Tatum           24     203     Eastern    26.4    25.7     4.3     4.6\n",
       "Butler          32     201     Eastern    21.5    22.1     6.0     6.2\n",
       "Mitchell        25     185     Western    26.4    25.8     4.8     5.1\n",
       "Gobert          30     216     Western    14.3    15.1     2.0     2.3\n",
       "Booker          25     198     Western    25.6    24.8     6.5     6.2\n",
       "Paul            37     183     Western    16.4    15.3     9.3     8.7\n",
       "Bam             25     206     Eastern    18.7    19.2     5.1     5.5\n",
       "Simmons         26     208     Eastern    14.3    13.9     8.0     7.7"
      ]
     },
     "execution_count": 50,
     "metadata": {},
     "output_type": "execute_result"
    }
   ],
   "source": [
    "people.iloc[0,2]='Western'\n",
    "people"
   ]
  },
  {
   "attachments": {},
   "cell_type": "markdown",
   "id": "bf7343ee",
   "metadata": {},
   "source": [
    "#### 3) height 190이상이고 21년 평균득점 값이 30 이상인 농구선수를 추출하는 코드를 작성하시오"
   ]
  },
  {
   "cell_type": "code",
   "execution_count": 53,
   "id": "64f7bc62",
   "metadata": {},
   "outputs": [
    {
     "data": {
      "text/plain": [
       "(               age  height team_region  ppg_20  ppg_21  apg_20  apg_21\n",
       " Lebron          38     206     Western    25.3    26.2    10.2     9.8\n",
       " Durant          34     208     Eastern    26.0    27.1     5.9     6.2\n",
       " Curry           34     191     Western    32.0    31.0     5.8     6.1\n",
       " Harden          33     196     Eastern    24.6    23.4    10.9     9.7\n",
       " Westbrook       34     191     Eastern    22.2    21.9    11.7    11.5\n",
       " Lillard         32     191     Western    28.8    27.7     7.8     7.5\n",
       " Antetokounmpo   28     211     Eastern    28.1    29.0     5.6     5.9\n",
       " Jokic           27     213     Western    26.4    26.9     8.3     8.8\n",
       " Doncic          23     201     Western    27.7    28.6     8.6     9.0\n",
       " Embiid          28     213     Eastern    28.5    28.9     3.0     3.1\n",
       " George          32     203     Western    23.3    24.5     5.2     5.4\n",
       " Tatum           24     203     Eastern    26.4    25.7     4.3     4.6\n",
       " Butler          32     201     Eastern    21.5    22.1     6.0     6.2\n",
       " Gobert          30     216     Western    14.3    15.1     2.0     2.3\n",
       " Booker          25     198     Western    25.6    24.8     6.5     6.2\n",
       " Bam             25     206     Eastern    18.7    19.2     5.1     5.5\n",
       " Simmons         26     208     Eastern    14.3    13.9     8.0     7.7,\n",
       " [Lebron           False\n",
       "  Durant           False\n",
       "  Curry             True\n",
       "  Harden           False\n",
       "  Westbrook        False\n",
       "  Lillard          False\n",
       "  Antetokounmpo    False\n",
       "  Jokic            False\n",
       "  Irving           False\n",
       "  Doncic           False\n",
       "  Embiid           False\n",
       "  George           False\n",
       "  Tatum            False\n",
       "  Butler           False\n",
       "  Mitchell         False\n",
       "  Gobert           False\n",
       "  Booker           False\n",
       "  Paul             False\n",
       "  Bam              False\n",
       "  Simmons          False\n",
       "  Name: ppg_21, dtype: bool])"
      ]
     },
     "execution_count": 53,
     "metadata": {},
     "output_type": "execute_result"
    }
   ],
   "source": [
    "people[people[\"height\"] >= 190],[people[\"ppg_21\"]>=30]"
   ]
  },
  {
   "attachments": {},
   "cell_type": "markdown",
   "id": "5bee20fe",
   "metadata": {},
   "source": [
    "#### 4) 선수들의 나이, 키, 평균득점, 어시스트의 평균을 계산해봅시다. \n",
    "\n",
    "Hint: `drop`과 `mean` method를 사용합니다. "
   ]
  },
  {
   "cell_type": "code",
   "execution_count": 57,
   "id": "84d59c7e",
   "metadata": {},
   "outputs": [
    {
     "data": {
      "text/plain": [
       "<bound method DataFrame.drop of                age  height team_region  ppg_20  ppg_21  apg_20  apg_21\n",
       "Lebron          38     206     Western    25.3    26.2    10.2     9.8\n",
       "Durant          34     208     Eastern    26.0    27.1     5.9     6.2\n",
       "Curry           34     191     Western    32.0    31.0     5.8     6.1\n",
       "Harden          33     196     Eastern    24.6    23.4    10.9     9.7\n",
       "Westbrook       34     191     Eastern    22.2    21.9    11.7    11.5\n",
       "Lillard         32     191     Western    28.8    27.7     7.8     7.5\n",
       "Antetokounmpo   28     211     Eastern    28.1    29.0     5.6     5.9\n",
       "Jokic           27     213     Western    26.4    26.9     8.3     8.8\n",
       "Irving          30     188     Eastern    27.0    26.3     6.1     5.9\n",
       "Doncic          23     201     Western    27.7    28.6     8.6     9.0\n",
       "Embiid          28     213     Eastern    28.5    28.9     3.0     3.1\n",
       "George          32     203     Western    23.3    24.5     5.2     5.4\n",
       "Tatum           24     203     Eastern    26.4    25.7     4.3     4.6\n",
       "Butler          32     201     Eastern    21.5    22.1     6.0     6.2\n",
       "Mitchell        25     185     Western    26.4    25.8     4.8     5.1\n",
       "Gobert          30     216     Western    14.3    15.1     2.0     2.3\n",
       "Booker          25     198     Western    25.6    24.8     6.5     6.2\n",
       "Paul            37     183     Western    16.4    15.3     9.3     8.7\n",
       "Bam             25     206     Eastern    18.7    19.2     5.1     5.5\n",
       "Simmons         26     208     Eastern    14.3    13.9     8.0     7.7>"
      ]
     },
     "execution_count": 57,
     "metadata": {},
     "output_type": "execute_result"
    }
   ],
   "source": [
    "people.drop"
   ]
  },
  {
   "cell_type": "code",
   "execution_count": 58,
   "id": "f0480e99",
   "metadata": {},
   "outputs": [
    {
     "name": "stderr",
     "output_type": "stream",
     "text": [
      "C:\\Users\\joppu\\AppData\\Local\\Temp\\ipykernel_18912\\3915517147.py:1: FutureWarning: The default value of numeric_only in DataFrame.mean is deprecated. In a future version, it will default to False. In addition, specifying 'numeric_only=None' is deprecated. Select only valid columns or specify the value of numeric_only to silence this warning.\n",
      "  people.mean()\n"
     ]
    },
    {
     "data": {
      "text/plain": [
       "age        29.850\n",
       "height    200.600\n",
       "ppg_20     24.175\n",
       "ppg_21     24.170\n",
       "apg_20      6.755\n",
       "apg_21      6.760\n",
       "dtype: float64"
      ]
     },
     "execution_count": 58,
     "metadata": {},
     "output_type": "execute_result"
    }
   ],
   "source": [
    "people.mean()"
   ]
  },
  {
   "attachments": {},
   "cell_type": "markdown",
   "id": "6e53b6ae",
   "metadata": {},
   "source": [
    "#### 5) 선수들을 소속팀 지역(서부/동부) 지역별로 그룹화 하고, 각 그룹별 나이, 키, 평균득점, 어시스트의 평균을 계산하여 데이터프레임으로 나타내시오"
   ]
  },
  {
   "cell_type": "code",
   "execution_count": null,
   "id": "2b3baa19",
   "metadata": {},
   "outputs": [],
   "source": []
  },
  {
   "attachments": {},
   "cell_type": "markdown",
   "id": "d7befbb6",
   "metadata": {},
   "source": [
    "#### 6) 아래는 한 데이터분석가가 NBA 선수의 가치를 평가하기 위해 구축한 함수입니다. 해당 함수를 적용해서, NBA 선수들의 가치를 정량화하여 'value'라는 컬럼을 생성해 봅시다.\n",
    "\n",
    "(avg_ppg와 avg_apg는 20년과 21년의 평균을 사용합니다) "
   ]
  },
  {
   "cell_type": "code",
   "execution_count": 59,
   "id": "af063fb1",
   "metadata": {},
   "outputs": [],
   "source": [
    "def player_value(age, height, avg_ppg, avg_apg):\n",
    "    value = -0.5 * age + 0.1 * height + 0.5 * avg_ppg + 0.4 * avg_apg\n",
    "    return value"
   ]
  },
  {
   "cell_type": "code",
   "execution_count": 60,
   "id": "4d5feb87",
   "metadata": {},
   "outputs": [
    {
     "ename": "NameError",
     "evalue": "name 'value' is not defined",
     "output_type": "error",
     "traceback": [
      "\u001b[1;31m---------------------------------------------------------------------------\u001b[0m",
      "\u001b[1;31mNameError\u001b[0m                                 Traceback (most recent call last)",
      "Cell \u001b[1;32mIn[60], line 1\u001b[0m\n\u001b[1;32m----> 1\u001b[0m value\n",
      "\u001b[1;31mNameError\u001b[0m: name 'value' is not defined"
     ]
    }
   ],
   "source": [
    "value"
   ]
  },
  {
   "cell_type": "code",
   "execution_count": null,
   "id": "1f90c3d3",
   "metadata": {},
   "outputs": [],
   "source": []
  }
 ],
 "metadata": {
  "kernelspec": {
   "display_name": "Python 3 (ipykernel)",
   "language": "python",
   "name": "python3"
  },
  "language_info": {
   "codemirror_mode": {
    "name": "ipython",
    "version": 3
   },
   "file_extension": ".py",
   "mimetype": "text/x-python",
   "name": "python",
   "nbconvert_exporter": "python",
   "pygments_lexer": "ipython3",
   "version": "3.10.9"
  }
 },
 "nbformat": 4,
 "nbformat_minor": 5
}
