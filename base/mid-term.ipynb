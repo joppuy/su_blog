{
 "cells": [
  {
   "cell_type": "markdown",
   "id": "37128a16",
   "metadata": {},
   "source": [
    "## 1. Numpy 기본 - 각 3점씩"
   ]
  },
  {
   "cell_type": "code",
   "execution_count": 34,
   "id": "595ece6a",
   "metadata": {},
   "outputs": [],
   "source": [
    "import numpy as np"
   ]
  },
  {
   "cell_type": "markdown",
   "id": "d61267b1",
   "metadata": {},
   "source": [
    "#### 1) 0에서부터 29까지의 숫자가 순서대로 들어간 3x10 matrix를 만들어 보시오. 최종 결과물은 아래와 같습니다 "
   ]
  },
  {
   "cell_type": "code",
   "execution_count": 74,
   "id": "38c54ea2",
   "metadata": {},
   "outputs": [
    {
     "data": {
      "text/plain": [
       "array([[ 0,  1,  2,  3,  4,  5,  6,  7,  8,  9],\n",
       "       [10, 11, 12, 13, 14, 15, 16, 17, 18, 19],\n",
       "       [20, 21, 22, 23, 24, 25, 26, 27, 28, 29]])"
      ]
     },
     "execution_count": 74,
     "metadata": {},
     "output_type": "execute_result"
    }
   ],
   "source": []
  },
  {
   "cell_type": "markdown",
   "id": "8b52dabd",
   "metadata": {},
   "source": [
    "#### 2) 1)에서 생성한 array의 모든 element에 10을 곱한 후 5를 더한 새로운 array를 생성히시오"
   ]
  },
  {
   "cell_type": "code",
   "execution_count": null,
   "id": "b28e9223",
   "metadata": {},
   "outputs": [],
   "source": []
  },
  {
   "cell_type": "markdown",
   "id": "f479412b",
   "metadata": {},
   "source": [
    "#### 3) 1)에서 생성한 array에서 10보다 크거나 같은 모든 원소들을 999로 변환하는 코드를 작성하시오\n"
   ]
  },
  {
   "cell_type": "code",
   "execution_count": null,
   "id": "9e06fb94",
   "metadata": {},
   "outputs": [],
   "source": []
  },
  {
   "attachments": {},
   "cell_type": "markdown",
   "id": "89b0d38d",
   "metadata": {},
   "source": [
    "#### 4) numpy 라이브러리를 사용하여 다음 두 개의 배열을 수직 방향(axis=0)과 수평 방향(axis=1)으로 연결하세요."
   ]
  },
  {
   "cell_type": "code",
   "execution_count": 35,
   "id": "84e42e77",
   "metadata": {},
   "outputs": [],
   "source": []
  },
  {
   "attachments": {},
   "cell_type": "markdown",
   "id": "bc568855",
   "metadata": {},
   "source": [
    "1. 수직방향 연결"
   ]
  },
  {
   "cell_type": "code",
   "execution_count": 38,
   "id": "f8dd81e1",
   "metadata": {},
   "outputs": [],
   "source": [
    "\n"
   ]
  },
  {
   "attachments": {},
   "cell_type": "markdown",
   "id": "ed2ab478",
   "metadata": {},
   "source": [
    "2. 수평방향 연결"
   ]
  },
  {
   "cell_type": "code",
   "execution_count": null,
   "id": "c5a0b6a1",
   "metadata": {},
   "outputs": [],
   "source": []
  },
  {
   "cell_type": "markdown",
   "id": "e5dd0bad",
   "metadata": {},
   "source": [
    "## 2. Pandas 기본 - 각 3점씩"
   ]
  },
  {
   "cell_type": "code",
   "execution_count": 2,
   "id": "edcdf24d",
   "metadata": {},
   "outputs": [],
   "source": [
    "import pandas as pd"
   ]
  },
  {
   "attachments": {},
   "cell_type": "markdown",
   "id": "08d0d99c",
   "metadata": {},
   "source": [
    "#### 1) 다음은 미국 프로농구 NBA 리그 선수들의 나이, 키, 소속팀 지역(서부/동부), 20년 평균득점, 21년 평균득점, 20년 평균어시스트, 21년 평균어시스트를 나타낸 것이다. Dictionary 형태로 되어 있는 것을 각 key값을 column으로 하는 데이터 프레임으로 변환하시오"
   ]
  },
  {
   "cell_type": "code",
   "execution_count": 3,
   "id": "fae35d0e",
   "metadata": {},
   "outputs": [],
   "source": [
    "nba_data = {\n",
    "    \"age\": {\n",
    "        \"Lebron\": 38, \"Durant\": 34, \"Curry\": 34, \"Harden\": 33, \"Westbrook\": 34,\n",
    "        \"Lillard\": 32, \"Antetokounmpo\": 28, \"Jokic\": 27, \"Irving\": 30, \"Doncic\": 23,\n",
    "        \"Embiid\": 28, \"George\": 32, \"Tatum\": 24, \"Butler\": 32, \"Mitchell\": 25,\n",
    "        \"Gobert\": 30, \"Booker\": 25, \"Paul\": 37, \"Bam\": 25, \"Simmons\": 26\n",
    "    },\n",
    "    \"height\": {\n",
    "        \"Lebron\": 206, \"Durant\": 208, \"Curry\": 191, \"Harden\": 196, \"Westbrook\": 191,\n",
    "        \"Lillard\": 191, \"Antetokounmpo\": 211, \"Jokic\": 213, \"Irving\": 188, \"Doncic\": 201,\n",
    "        \"Embiid\": 213, \"George\": 203, \"Tatum\": 203, \"Butler\": 201, \"Mitchell\": 185,\n",
    "        \"Gobert\": 216, \"Booker\": 198, \"Paul\": 183, \"Bam\": 206, \"Simmons\": 208\n",
    "    },\n",
    "    \"team_region\": {\n",
    "        \"Durant\": \"Eastern\", \"Curry\": \"Western\", \"Harden\": \"Eastern\", \"Westbrook\": \"Eastern\",\n",
    "        \"Lillard\": \"Western\", \"Antetokounmpo\": \"Eastern\", \"Jokic\": \"Western\", \"Irving\": \"Eastern\", \"Doncic\": \"Western\",\n",
    "        \"Embiid\": \"Eastern\", \"George\": \"Western\", \"Tatum\": \"Eastern\", \"Butler\": \"Eastern\", \"Mitchell\": \"Western\",\n",
    "        \"Gobert\": \"Western\", \"Booker\": \"Western\", \"Paul\": \"Western\", \"Bam\": \"Eastern\", \"Simmons\": \"Eastern\"\n",
    "    },\n",
    "    \"ppg_20\": {\n",
    "        \"Lebron\": 25.3, \"Durant\": 26.0, \"Curry\": 32.0, \"Harden\": 24.6, \"Westbrook\": 22.2,\n",
    "        \"Lillard\": 28.8, \"Antetokounmpo\": 28.1, \"Jokic\": 26.4, \"Irving\": 27.0, \"Doncic\": 27.7,\n",
    "        \"Embiid\": 28.5, \"George\": 23.3, \"Tatum\": 26.4, \"Butler\": 21.5, \"Mitchell\": 26.4,\n",
    "        \"Gobert\": 14.3, \"Booker\": 25.6, \"Paul\": 16.4, \"Bam\": 18.7, \"Simmons\": 14.3\n",
    "    },\n",
    "    \"ppg_21\": {\n",
    "        \"Lebron\": 26.2, \"Durant\": 27.1, \"Curry\": 31.0, \"Harden\": 23.4, \"Westbrook\": 21.9,\n",
    "        \"Lillard\": 27.7, \"Antetokounmpo\": 29.0, \"Jokic\": 26.9, \"Irving\": 26.3, \"Doncic\": 28.6,\n",
    "        \"Embiid\": 28.9, \"George\": 24.5, \"Tatum\": 25.7, \"Butler\": 22.1, \"Mitchell\": 25.8,\n",
    "        \"Gobert\": 15.1, \"Booker\": 24.8, \"Paul\": 15.3, \"Bam\": 19.2, \"Simmons\": 13.9\n",
    "        },\n",
    "    \"apg_20\": {\n",
    "        \"Lebron\": 10.2, \"Durant\": 5.9, \"Curry\": 5.8, \"Harden\": 10.9, \"Westbrook\": 11.7,\n",
    "        \"Lillard\": 7.8, \"Antetokounmpo\": 5.6, \"Jokic\": 8.3, \"Irving\": 6.1, \"Doncic\": 8.6,\n",
    "        \"Embiid\": 3.0, \"George\": 5.2, \"Tatum\": 4.3, \"Butler\": 6.0, \"Mitchell\": 4.8,\n",
    "        \"Gobert\": 2.0, \"Booker\": 6.5, \"Paul\": 9.3, \"Bam\": 5.1, \"Simmons\": 8.0\n",
    "        },\n",
    "    \"apg_21\": {\n",
    "        \"Lebron\": 9.8, \"Durant\": 6.2, \"Curry\": 6.1, \"Harden\": 9.7, \"Westbrook\": 11.5,\n",
    "        \"Lillard\": 7.5, \"Antetokounmpo\": 5.9, \"Jokic\": 8.8, \"Irving\": 5.9, \"Doncic\": 9.0,\n",
    "        \"Embiid\": 3.1, \"George\": 5.4, \"Tatum\": 4.6, \"Butler\": 6.2, \"Mitchell\": 5.1,\n",
    "        \"Gobert\": 2.3, \"Booker\": 6.2, \"Paul\": 8.7, \"Bam\": 5.5, \"Simmons\": 7.7\n",
    "        }\n",
    "    }\n",
    "       "
   ]
  },
  {
   "cell_type": "code",
   "execution_count": null,
   "id": "d52a3365",
   "metadata": {},
   "outputs": [],
   "source": []
  },
  {
   "attachments": {},
   "cell_type": "markdown",
   "id": "44755425",
   "metadata": {},
   "source": [
    "#### 2) Lebron의 team_region 값이 'Western'라고 할 때 해당 값을 위의 데이터 프레임에 추가하시오"
   ]
  },
  {
   "cell_type": "code",
   "execution_count": null,
   "id": "b5776008",
   "metadata": {},
   "outputs": [],
   "source": []
  },
  {
   "attachments": {},
   "cell_type": "markdown",
   "id": "bf7343ee",
   "metadata": {},
   "source": [
    "#### 3) height 190이상이고 21년 평균득점 값이 30 이상인 농구선수를 추출하는 코드를 작성하시오"
   ]
  },
  {
   "cell_type": "code",
   "execution_count": null,
   "id": "64f7bc62",
   "metadata": {},
   "outputs": [],
   "source": []
  },
  {
   "attachments": {},
   "cell_type": "markdown",
   "id": "5bee20fe",
   "metadata": {},
   "source": [
    "#### 4) 선수들의 나이, 키, 평균득점, 어시스트의 평균을 계산해봅시다. \n",
    "\n",
    "Hint: `drop`과 `mean` method를 사용합니다. "
   ]
  },
  {
   "cell_type": "code",
   "execution_count": null,
   "id": "f0480e99",
   "metadata": {},
   "outputs": [],
   "source": []
  },
  {
   "attachments": {},
   "cell_type": "markdown",
   "id": "6e53b6ae",
   "metadata": {},
   "source": [
    "#### 5) 선수들을 소속팀 지역(서부/동부) 지역별로 그룹화 하고, 각 그룹별 나이, 키, 평균득점, 어시스트의 평균을 계산하여 데이터프레임으로 나타내시오"
   ]
  },
  {
   "cell_type": "code",
   "execution_count": null,
   "id": "2b3baa19",
   "metadata": {},
   "outputs": [],
   "source": []
  },
  {
   "attachments": {},
   "cell_type": "markdown",
   "id": "d7befbb6",
   "metadata": {},
   "source": [
    "#### 6) 아래는 한 데이터분석가가 NBA 선수의 가치를 평가하기 위해 구축한 함수입니다. 해당 함수를 적용해서, NBA 선수들의 가치를 정량화하여 'value'라는 컬럼을 생성해 봅시다.\n",
    "\n",
    "(avg_ppg와 avg_apg는 20년과 21년의 평균을 사용합니다) "
   ]
  },
  {
   "cell_type": "code",
   "execution_count": 32,
   "id": "af063fb1",
   "metadata": {},
   "outputs": [],
   "source": [
    "def player_value(age, height, avg_ppg, avg_apg):\n",
    "    value = -0.5 * age + 0.1 * height + 0.5 * avg_ppg + 0.4 * avg_apg\n",
    "    return value"
   ]
  },
  {
   "cell_type": "code",
   "execution_count": null,
   "id": "4d5feb87",
   "metadata": {},
   "outputs": [],
   "source": []
  }
 ],
 "metadata": {
  "kernelspec": {
   "display_name": "Python 3 (ipykernel)",
   "language": "python",
   "name": "python3"
  },
  "language_info": {
   "codemirror_mode": {
    "name": "ipython",
    "version": 3
   },
   "file_extension": ".py",
   "mimetype": "text/x-python",
   "name": "python",
   "nbconvert_exporter": "python",
   "pygments_lexer": "ipython3",
   "version": "3.8.8"
  }
 },
 "nbformat": 4,
 "nbformat_minor": 5
}
